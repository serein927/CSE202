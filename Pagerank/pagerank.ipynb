{
 "metadata": {
  "name": ""
 },
 "nbformat": 3,
 "nbformat_minor": 0,
 "worksheets": [
  {
   "cells": [
    {
     "cell_type": "code",
     "collapsed": false,
     "input": [
      "import numpy as np\n",
      "from scipy import *\n",
      "import re"
     ],
     "language": "python",
     "metadata": {},
     "outputs": [],
     "prompt_number": 1
    },
    {
     "cell_type": "code",
     "collapsed": false,
     "input": [
      "d = 0.85\n",
      "m = np.zeros((2485, 2485),dtype=float)\n",
      "n = m.shape[0]\n",
      "f = open('cse.ucsd.edu.txt', 'r')\n",
      "for line in f:\n",
      "    line = line.strip('\\r\\n')\n",
      "    p = re.compile(r'\\(.*\\)::')\n",
      "    line = p.sub(':',line)\n",
      "    (w,v) = line.split(':')\n",
      "    list = v.split(',')\n",
      "    if len(list) > 1:\n",
      "        m[w,list] = 1                                                                                              \n",
      "    c = sum(m[w,])\n",
      "    if c == 0:\n",
      "       c = 1\n",
      "    m[w,] = (1-d) / n + d * m[w,] / c\n",
      "f.close()"
     ],
     "language": "python",
     "metadata": {},
     "outputs": [],
     "prompt_number": 67
    },
    {
     "cell_type": "code",
     "collapsed": false,
     "input": [
      "w,v = np.linalg.eig(m)"
     ],
     "language": "python",
     "metadata": {},
     "outputs": [],
     "prompt_number": 76
    },
    {
     "cell_type": "code",
     "collapsed": false,
     "input": [
      "t = abs(real(v[:n,0])/np.linalg.norm(v[:n,0],1))"
     ],
     "language": "python",
     "metadata": {},
     "outputs": [],
     "prompt_number": 86
    },
    {
     "cell_type": "code",
     "collapsed": false,
     "input": [
      "print t"
     ],
     "language": "python",
     "metadata": {},
     "outputs": [
      {
       "output_type": "stream",
       "stream": "stdout",
       "text": [
        "[  6.11600970e-04   6.11524494e-04   6.09504899e-04 ...,   6.39297741e-05\n",
        "   6.39297741e-05   2.05459580e-04]\n"
       ]
      }
     ],
     "prompt_number": 87
    },
    {
     "cell_type": "code",
     "collapsed": false,
     "input": [
      "max(t)"
     ],
     "language": "python",
     "metadata": {},
     "outputs": [
      {
       "metadata": {},
       "output_type": "pyout",
       "prompt_number": 84,
       "text": [
        "0.00062147649299228072"
       ]
      }
     ],
     "prompt_number": 84
    },
    {
     "cell_type": "code",
     "collapsed": false,
     "input": [
      "t[0]"
     ],
     "language": "python",
     "metadata": {},
     "outputs": [
      {
       "metadata": {},
       "output_type": "pyout",
       "prompt_number": 85,
       "text": [
        "0.00061160097007290938"
       ]
      }
     ],
     "prompt_number": 85
    },
    {
     "cell_type": "code",
     "collapsed": false,
     "input": [],
     "language": "python",
     "metadata": {},
     "outputs": []
    }
   ],
   "metadata": {}
  }
 ]
}