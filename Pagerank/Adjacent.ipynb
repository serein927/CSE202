{
 "metadata": {
  "name": ""
 },
 "nbformat": 3,
 "nbformat_minor": 0,
 "worksheets": [
  {
   "cells": [
    {
     "cell_type": "code",
     "collapsed": false,
     "input": [
      "from numpy import *\n",
      "import re"
     ],
     "language": "python",
     "metadata": {},
     "outputs": [],
     "prompt_number": 274
    },
    {
     "cell_type": "code",
     "collapsed": false,
     "input": [
      "mx = {}\n",
      "mx_col = {}\n",
      "n = 4632\n",
      "\n",
      "f = open('cse.ucsd.edu-4k.txt', 'r')\n",
      "dang = []\n",
      "for line in f:\n",
      "    line = line.strip('\\r\\n')\n",
      "    p = re.compile(r'\\(.*\\)::')\n",
      "    line = p.sub(':',line)\n",
      "    (w,v) = line.split(':')\n",
      "    l = v.split(',')\n",
      "    for i in l:\n",
      "        if mx.has_key(int(i)):\n",
      "            mx[int(i)].append(int(w))\n",
      "        else:\n",
      "            mx[int(i)] = [int(w)]\n",
      "    mx_col[int(w)] = len(l)\n",
      "f.close()"
     ],
     "language": "python",
     "metadata": {},
     "outputs": [],
     "prompt_number": 300
    },
    {
     "cell_type": "code",
     "collapsed": false,
     "input": [
      "theta = 0.000000001\n",
      "r = array([1]*n,dtype='float64')\n",
      "max_iter = 1000\n",
      "for i in range(max_iter):\n",
      "    r1 = array([0]*n,dtype='float64')\n",
      "    for j in range(n):\n",
      "        if mx.has_key(j):  \n",
      "            for k in mx[j]:\n",
      "                r1[j] += r[k]/mx_col[k] \n",
      "    r1 = 0.85 * r1 + 0.15 / n\n",
      "    delta = sum(abs(r1-r))\n",
      "    #print delta\n",
      "    r = r1\n",
      "    if delta < theta:\n",
      "        break\n",
      "r = r/sum(r)"
     ],
     "language": "python",
     "metadata": {},
     "outputs": [],
     "prompt_number": 310
    },
    {
     "cell_type": "code",
     "collapsed": false,
     "input": [
      "for i in r:\n",
      "    print i"
     ],
     "language": "python",
     "metadata": {},
     "outputs": [
      {
       "metadata": {},
       "output_type": "pyout",
       "prompt_number": 306,
       "text": [
        "array([ 0.00723857,  0.00202537,  0.00202537, ...,  0.00018803,\n",
        "        0.00011539,  0.00019587])"
       ]
      }
     ],
     "prompt_number": 306
    },
    {
     "cell_type": "code",
     "collapsed": false,
     "input": [
      "sum(r)"
     ],
     "language": "python",
     "metadata": {},
     "outputs": [
      {
       "metadata": {},
       "output_type": "pyout",
       "prompt_number": 311,
       "text": [
        "0.99999999999997014"
       ]
      }
     ],
     "prompt_number": 311
    },
    {
     "cell_type": "code",
     "collapsed": false,
     "input": [
      "delta<theta"
     ],
     "language": "python",
     "metadata": {},
     "outputs": [
      {
       "metadata": {},
       "output_type": "pyout",
       "prompt_number": 314,
       "text": [
        "True"
       ]
      }
     ],
     "prompt_number": 314
    },
    {
     "cell_type": "code",
     "collapsed": false,
     "input": [
      "i"
     ],
     "language": "python",
     "metadata": {},
     "outputs": [
      {
       "metadata": {},
       "output_type": "pyout",
       "prompt_number": 315,
       "text": [
        "169"
       ]
      }
     ],
     "prompt_number": 315
    },
    {
     "cell_type": "code",
     "collapsed": false,
     "input": [],
     "language": "python",
     "metadata": {},
     "outputs": []
    }
   ],
   "metadata": {}
  }
 ]
}