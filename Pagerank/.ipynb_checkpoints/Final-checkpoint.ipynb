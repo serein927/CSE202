{
 "metadata": {
  "name": ""
 },
 "nbformat": 3,
 "nbformat_minor": 0,
 "worksheets": [
  {
   "cells": [
    {
     "cell_type": "code",
     "collapsed": false,
     "input": [
      "from numpy import *\n",
      "import re\n",
      "\n",
      "def powerMethodBase(A,x0,iter,theta):\n",
      "    \"\"\" basic power method \"\"\"\n",
      "    for i in range(iter):\n",
      "        x1 = x0\n",
      "        x0 = dot(A,x0)\n",
      "        x0 = x0/linalg.norm(x0,1)\n",
      "        d = sum(abs(x1-x0))\n",
      "        if d < theta:\n",
      "            break\n",
      "#    print i\n",
      "    x0 = x0/sum(x0)\n",
      "    return x0\n",
      "\n",
      "def powerMethod(A,x0,m,iter,theta):\n",
      "    \"\"\" power method modified to compute\n",
      "     the maximal real eigenvector \n",
      "     of the matrix M built on top of the input matrix A \"\"\"\n",
      "    n = A.shape[1]\n",
      "    delta = m*(array([1]*n,dtype='float64')/n) # array([1]*n is [1 1 ... 1] n times\n",
      "    for i in range(iter):\n",
      "        x1 = x0\n",
      "        x0 = dot((1-m),dot(A,x0)) + delta\n",
      "        d = sum(abs(x1-x0))\n",
      "        if d < theta:\n",
      "            break\n",
      "#    print i\n",
      "    x0 = x0/sum(x0)\n",
      "    return x0\n",
      "\n",
      "def maximalEigenvector(A):\n",
      "    \"\"\" using the eig function to compute eigenvectors \"\"\"\n",
      "    n = A.shape[1]\n",
      "    w,v = linalg.eig(A)\n",
      "    return abs(real(v[:n,0])/linalg.norm(v[:n,0],1))\n",
      "\n",
      "def linearEquations(A,m):\n",
      "    \"\"\" solving linear equations \n",
      "     of the system (I-(1-m)*A)*x = m*s \"\"\"\n",
      "    n = A.shape[1]\n",
      "    C = eye(n,n)-dot((1-m),A)\n",
      "    b = m*(array([1]*n,dtype='float64')/n)\n",
      "    x0 = linalg.solve(C,b)\n",
      "    x0 = x0/sum(x0)\n",
      "    return x0\n",
      "\n",
      "def getTeleMatrix(A,m):\n",
      "    \"\"\" return the matrix M\n",
      "     of the web described by A \"\"\"\n",
      "    n = A.shape[1]\n",
      "    S = ones((n,n))/n\n",
      "    return (1-m)*A+m*S"
     ],
     "language": "python",
     "metadata": {},
     "outputs": [],
     "prompt_number": 228
    },
    {
     "cell_type": "code",
     "collapsed": false,
     "input": [
      "n= 4632\n",
      "m = zeros((n, n),dtype=float)\n",
      "f = open('cse.ucsd.edu-4k.txt', 'r')\n",
      "dang = []\n",
      "for line in f:\n",
      "    line = line.strip('\\r\\n')\n",
      "    p = re.compile(r'\\(.*\\)::')\n",
      "    line = p.sub(':',line)\n",
      "    (w,v) = line.split(':')\n",
      "    list = v.split(',')\n",
      "    if list[0] != '':\n",
      "        m[list,w] = 1                                                                                              \n",
      "    c = sum(m[:,w])\n",
      "    if c == 0:\n",
      "        c = 1\n",
      "        dang.append(w)\n",
      "    m[:,w] = m[:,w] / c\n",
      "f.close()"
     ],
     "language": "python",
     "metadata": {},
     "outputs": [],
     "prompt_number": 229
    },
    {
     "cell_type": "code",
     "collapsed": false,
     "input": [
      "#m[dang,]=0\n",
      "#for w in range(0,n):\n",
      "#        c = sum(m[:,w])\n",
      "#        if c == 0:\n",
      "#            c = 1\n",
      "#        m[:,w] = m[:,w] / c"
     ],
     "language": "python",
     "metadata": {},
     "outputs": [],
     "prompt_number": 168
    },
    {
     "cell_type": "code",
     "collapsed": false,
     "input": [
      "d=0.15\n",
      "theta = 0.000000001\n",
      "max_iter = 1000\n",
      "M = getTeleMatrix(m,d)\n",
      "\n",
      "x0 = [1]*n\n",
      "x1 = powerMethod(m,x0,d,max_iter,theta)\n",
      "x2 = powerMethodBase(M,x0,max_iter,theta)\n",
      "x3 = maximalEigenvector(M)\n",
      "x4 = linearEquations(m,d)"
     ],
     "language": "python",
     "metadata": {},
     "outputs": [],
     "prompt_number": 230
    },
    {
     "cell_type": "code",
     "collapsed": false,
     "input": [
      "for i in x3:\n",
      "    print i"
     ],
     "language": "python",
     "metadata": {},
     "outputs": []
    },
    {
     "cell_type": "code",
     "collapsed": false,
     "input": [
      "import time  \n",
      "\n",
      "e=np.random.rand(n,n)\n",
      "for i in range(0,e.shape[0]):\n",
      "    e[i,e[i,]>0.5] = 1\n",
      "    e[i,e[i,]<=0.5] = 0\n",
      "M = getTeleMatrix(e,d)\n",
      "\n",
      "starttime = time.clock()  \n",
      "x2 = powerMethodBase(M,x0,max_iter,theta)\n",
      "endtime = time.clock()\n",
      "print (endtime-starttime)"
     ],
     "language": "python",
     "metadata": {},
     "outputs": [
      {
       "output_type": "stream",
       "stream": "stdout",
       "text": [
        "0.036296\n"
       ]
      }
     ],
     "prompt_number": 224
    },
    {
     "cell_type": "code",
     "collapsed": false,
     "input": [
      "x1"
     ],
     "language": "python",
     "metadata": {},
     "outputs": [
      {
       "metadata": {},
       "output_type": "pyout",
       "prompt_number": 233,
       "text": [
        "array([ 0.00655504,  0.00205175,  0.00205175, ...,  0.00018803,\n",
        "        0.00011539,  0.00018396])"
       ]
      }
     ],
     "prompt_number": 233
    },
    {
     "cell_type": "code",
     "collapsed": false,
     "input": [
      "x2"
     ],
     "language": "python",
     "metadata": {},
     "outputs": [
      {
       "metadata": {},
       "output_type": "pyout",
       "prompt_number": 234,
       "text": [
        "array([ 0.00655504,  0.00205175,  0.00205175, ...,  0.00018803,\n",
        "        0.00011539,  0.00018396])"
       ]
      }
     ],
     "prompt_number": 234
    },
    {
     "cell_type": "code",
     "collapsed": false,
     "input": [
      "x3"
     ],
     "language": "python",
     "metadata": {},
     "outputs": [
      {
       "metadata": {},
       "output_type": "pyout",
       "prompt_number": 235,
       "text": [
        "array([ 0.00655504,  0.00205175,  0.00205175, ...,  0.00018803,\n",
        "        0.00011539,  0.00018396])"
       ]
      }
     ],
     "prompt_number": 235
    },
    {
     "cell_type": "code",
     "collapsed": false,
     "input": [
      "x4"
     ],
     "language": "python",
     "metadata": {},
     "outputs": [
      {
       "metadata": {},
       "output_type": "pyout",
       "prompt_number": 236,
       "text": [
        "array([ 0.00655504,  0.00205175,  0.00205175, ...,  0.00018803,\n",
        "        0.00011539,  0.00018396])"
       ]
      }
     ],
     "prompt_number": 236
    },
    {
     "cell_type": "code",
     "collapsed": false,
     "input": [],
     "language": "python",
     "metadata": {},
     "outputs": []
    }
   ],
   "metadata": {}
  }
 ]
}