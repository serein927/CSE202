{
 "metadata": {
  "name": ""
 },
 "nbformat": 3,
 "nbformat_minor": 0,
 "worksheets": [
  {
   "cells": [
    {
     "cell_type": "code",
     "collapsed": false,
     "input": [
      "import numpy as np\n",
      "from scipy import *\n",
      "import re"
     ],
     "language": "python",
     "metadata": {},
     "outputs": [],
     "prompt_number": 1
    },
    {
     "cell_type": "code",
     "collapsed": false,
     "input": [
      "d = 0.85\n",
      "m = np.zeros((2485, 2485),dtype=float)\n",
      "n = m.shape[0]\n",
      "f = open('result.txt', 'r')\n",
      "for line in f:\n",
      "    line = line.strip('\\r\\n')\n",
      "    p = re.compile(r'\\(.*\\)::')\n",
      "    line = p.sub(':',line)\n",
      "    (w,v) = line.split(':')\n",
      "    list = v.split(',')\n",
      "    if len(list) > 1:\n",
      "        m[w,list] = 1                                                                                              \n",
      "    c = sum(m[w,])\n",
      "    if c == 0:\n",
      "       c = 1\n",
      "    m[w,] = (1 - d) / n + d * m[w,] / c\n",
      "f.close()"
     ],
     "language": "python",
     "metadata": {},
     "outputs": [],
     "prompt_number": 20
    },
    {
     "cell_type": "code",
     "collapsed": false,
     "input": [
      "w,v = np.linalg.eig(m)"
     ],
     "language": "python",
     "metadata": {},
     "outputs": [],
     "prompt_number": 24
    },
    {
     "cell_type": "code",
     "collapsed": false,
     "input": [
      "dot(m,v[:,0])"
     ],
     "language": "python",
     "metadata": {},
     "outputs": [
      {
       "metadata": {},
       "output_type": "pyout",
       "prompt_number": 33,
       "text": [
        "array([ 0.02506165+0.j,  0.02505852+0.j,  0.02497576+0.j, ...,\n",
        "        0.00261966+0.j,  0.00261966+0.j,  0.00841914+0.j])"
       ]
      }
     ],
     "prompt_number": 33
    },
    {
     "cell_type": "code",
     "collapsed": false,
     "input": [
      "v[:,0]"
     ],
     "language": "python",
     "metadata": {},
     "outputs": [
      {
       "metadata": {},
       "output_type": "pyout",
       "prompt_number": 34,
       "text": [
        "array([ 0.02654287+0.j,  0.02653956+0.j,  0.02645191+0.j, ...,\n",
        "        0.00277449+0.j,  0.00277449+0.j,  0.00891674+0.j])"
       ]
      }
     ],
     "prompt_number": 34
    },
    {
     "cell_type": "code",
     "collapsed": false,
     "input": [
      "t = v[:,0]"
     ],
     "language": "python",
     "metadata": {},
     "outputs": [],
     "prompt_number": 35
    },
    {
     "cell_type": "code",
     "collapsed": false,
     "input": [
      "t/sum(t)"
     ],
     "language": "python",
     "metadata": {},
     "outputs": [
      {
       "metadata": {},
       "output_type": "pyout",
       "prompt_number": 15,
       "text": [
        "array([  6.11600970e-04+0.j,   6.11524494e-04+0.j,   6.09504899e-04+0.j,\n",
        "       ...,   6.39297741e-05+0.j,   6.39297741e-05+0.j,\n",
        "         2.05459580e-04+0.j])"
       ]
      }
     ],
     "prompt_number": 15
    },
    {
     "cell_type": "code",
     "collapsed": false,
     "input": [
      "shape(v)"
     ],
     "language": "python",
     "metadata": {},
     "outputs": [
      {
       "metadata": {},
       "output_type": "pyout",
       "prompt_number": 9,
       "text": [
        "(1658, 1658)"
       ]
      }
     ],
     "prompt_number": 9
    },
    {
     "cell_type": "code",
     "collapsed": false,
     "input": [],
     "language": "python",
     "metadata": {},
     "outputs": []
    }
   ],
   "metadata": {}
  }
 ]
}